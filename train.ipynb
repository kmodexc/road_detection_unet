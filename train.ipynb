{
 "cells": [
  {
   "cell_type": "code",
   "execution_count": null,
   "metadata": {},
   "outputs": [],
   "source": [
    "!setup.sh"
   ]
  },
  {
   "cell_type": "code",
   "execution_count": null,
   "metadata": {},
   "outputs": [],
   "source": [
    "from tensorflow.keras.callbacks import ModelCheckpoint\n",
    "from keras.callbacks import ModelCheckpoint\n",
    "from model import *\n",
    "from data import *\n",
    "\n",
    "paths = get_image_paths()\n",
    "trainpaths, valpaths = get_train_val_split(paths)\n",
    "\n",
    "train_gen = RoadDataset(1, (256,256), trainpaths)\n",
    "val_gen = RoadDataset(1, (256,256), valpaths)\n",
    "\n",
    "checkpoint_file = \"road_detection.h5\"\n",
    "\n",
    "callbacks = [\n",
    "    ModelCheckpoint(checkpoint_file, save_best_only=True)\n",
    "]\n",
    "\n",
    "if os.path.isfile(checkpoint_file):\n",
    "    model = unet(checkpoint_file)\n",
    "else:\n",
    "    model = unet()"
   ]
  },
  {
   "cell_type": "code",
   "execution_count": null,
   "metadata": {},
   "outputs": [],
   "source": [
    "model.fit(train_gen,epochs=20,validation_data=val_gen,callbacks=callbacks)"
   ]
  },
  {
   "cell_type": "code",
   "execution_count": null,
   "metadata": {},
   "outputs": [],
   "source": [
    "imind = 6\n",
    "save_rgb_img(train_gen[imind][0][0])\n",
    "save_gs_img(train_gen[imind][1][0])\n",
    "pdim = model.predict(train_gen[imind][0])\n",
    "save_gs_img(pdim[0])\n",
    "cut_rgb_img(train_gen[imind][0][0],pdim[0])"
   ]
  }
 ],
 "metadata": {
  "language_info": {
   "name": "python"
  },
  "orig_nbformat": 4
 },
 "nbformat": 4,
 "nbformat_minor": 2
}
